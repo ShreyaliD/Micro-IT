{
  "nbformat": 4,
  "nbformat_minor": 0,
  "metadata": {
    "colab": {
      "provenance": [],
      "authorship_tag": "ABX9TyNPJ32giT3OiZIlKON1q+Uj",
      "include_colab_link": true
    },
    "kernelspec": {
      "name": "python3",
      "display_name": "Python 3"
    },
    "language_info": {
      "name": "python"
    }
  },
  "cells": [
    {
      "cell_type": "markdown",
      "metadata": {
        "id": "view-in-github",
        "colab_type": "text"
      },
      "source": [
        "<a href=\"https://colab.research.google.com/github/ShreyaliD/Micro-IT/blob/main/Tic_Tac_Toe_Game.ipynb\" target=\"_parent\"><img src=\"https://colab.research.google.com/assets/colab-badge.svg\" alt=\"Open In Colab\"/></a>"
      ]
    },
    {
      "cell_type": "code",
      "source": [
        "from IPython.display import display, HTML\n",
        "\n",
        "# Create an empty board\n",
        "def create_board():\n",
        "    return [\" \" for _ in range(9)]\n",
        "\n",
        "# Display board as a 3x3 table\n",
        "def display_board(board):\n",
        "    html = \"<table style='border: 2px solid black; font-size: 30px;'>\"\n",
        "    for i in range(3):\n",
        "        html += \"<tr>\"\n",
        "        for j in range(3):\n",
        "            index = i * 3 + j\n",
        "            cell = board[index]\n",
        "            html += f\"<td style='border: 2px solid black; width: 60px; height: 60px; text-align: center;'>{cell}</td>\"\n",
        "        html += \"</tr>\"\n",
        "    html += \"</table>\"\n",
        "    display(HTML(html))"
      ],
      "metadata": {
        "id": "HXGlZnZgZGoN"
      },
      "execution_count": null,
      "outputs": []
    },
    {
      "cell_type": "code",
      "source": [
        "def is_valid_move(board, position):\n",
        "    return board[position] == \" \"\n",
        "\n",
        "def make_move(board, position, player):\n",
        "    if is_valid_move(board, position):\n",
        "        board[position] = player\n",
        "        return True\n",
        "    return False"
      ],
      "metadata": {
        "id": "Pwg-n8ExZIIR"
      },
      "execution_count": null,
      "outputs": []
    },
    {
      "cell_type": "code",
      "source": [
        "def check_winner(board, player):\n",
        "    win_conditions = [\n",
        "        [0,1,2], [3,4,5], [6,7,8],  # rows\n",
        "        [0,3,6], [1,4,7], [2,5,8],  # columns\n",
        "        [0,4,8], [2,4,6]            # diagonals\n",
        "    ]\n",
        "    for condition in win_conditions:\n",
        "        if all(board[i] == player for i in condition):\n",
        "            return True\n",
        "    return False\n",
        "\n",
        "def is_draw(board):\n",
        "    return \" \" not in board"
      ],
      "metadata": {
        "id": "mST4ocfLZLun"
      },
      "execution_count": null,
      "outputs": []
    },
    {
      "cell_type": "code",
      "source": [
        "def play_game():\n",
        "    board = create_board()\n",
        "    current_player = \"X\"\n",
        "\n",
        "    while True:\n",
        "        display_board(board)\n",
        "        try:\n",
        "            move = int(input(f\"Player {current_player}, choose position (0–8): \"))\n",
        "            if move < 0 or move > 8:\n",
        "                print(\"Invalid input. Choose between 0–8.\")\n",
        "                continue\n",
        "        except ValueError:\n",
        "            print(\"Please enter a valid number.\")\n",
        "            continue\n",
        "\n",
        "        if make_move(board, move, current_player):\n",
        "            if check_winner(board, current_player):\n",
        "                display_board(board)\n",
        "                print(f\"Player {current_player} wins!\")\n",
        "                break\n",
        "            elif is_draw(board):\n",
        "                display_board(board)\n",
        "                print(\"It's a draw!\")\n",
        "                break\n",
        "            current_player = \"O\" if current_player == \"X\" else \"X\"\n",
        "        else:\n",
        "            print(\"That spot is taken. Try again.\")"
      ],
      "metadata": {
        "id": "jTIYw4RjZQbg"
      },
      "execution_count": null,
      "outputs": []
    },
    {
      "cell_type": "code",
      "source": [
        "play_game()"
      ],
      "metadata": {
        "colab": {
          "base_uri": "https://localhost:8080/",
          "height": 1000
        },
        "id": "Bm9KUfl3ZUyb",
        "outputId": "8107988f-4c44-487d-bfb1-3c6dc641e42f"
      },
      "execution_count": null,
      "outputs": [
        {
          "output_type": "display_data",
          "data": {
            "text/plain": [
              "<IPython.core.display.HTML object>"
            ],
            "text/html": [
              "<table style='border: 2px solid black; font-size: 30px;'><tr><td style='border: 2px solid black; width: 60px; height: 60px; text-align: center;'> </td><td style='border: 2px solid black; width: 60px; height: 60px; text-align: center;'> </td><td style='border: 2px solid black; width: 60px; height: 60px; text-align: center;'> </td></tr><tr><td style='border: 2px solid black; width: 60px; height: 60px; text-align: center;'> </td><td style='border: 2px solid black; width: 60px; height: 60px; text-align: center;'> </td><td style='border: 2px solid black; width: 60px; height: 60px; text-align: center;'> </td></tr><tr><td style='border: 2px solid black; width: 60px; height: 60px; text-align: center;'> </td><td style='border: 2px solid black; width: 60px; height: 60px; text-align: center;'> </td><td style='border: 2px solid black; width: 60px; height: 60px; text-align: center;'> </td></tr></table>"
            ]
          },
          "metadata": {}
        },
        {
          "name": "stdout",
          "output_type": "stream",
          "text": [
            "Player X, choose position (0–8): 0\n"
          ]
        },
        {
          "output_type": "display_data",
          "data": {
            "text/plain": [
              "<IPython.core.display.HTML object>"
            ],
            "text/html": [
              "<table style='border: 2px solid black; font-size: 30px;'><tr><td style='border: 2px solid black; width: 60px; height: 60px; text-align: center;'>X</td><td style='border: 2px solid black; width: 60px; height: 60px; text-align: center;'> </td><td style='border: 2px solid black; width: 60px; height: 60px; text-align: center;'> </td></tr><tr><td style='border: 2px solid black; width: 60px; height: 60px; text-align: center;'> </td><td style='border: 2px solid black; width: 60px; height: 60px; text-align: center;'> </td><td style='border: 2px solid black; width: 60px; height: 60px; text-align: center;'> </td></tr><tr><td style='border: 2px solid black; width: 60px; height: 60px; text-align: center;'> </td><td style='border: 2px solid black; width: 60px; height: 60px; text-align: center;'> </td><td style='border: 2px solid black; width: 60px; height: 60px; text-align: center;'> </td></tr></table>"
            ]
          },
          "metadata": {}
        },
        {
          "name": "stdout",
          "output_type": "stream",
          "text": [
            "Player O, choose position (0–8): 1\n"
          ]
        },
        {
          "output_type": "display_data",
          "data": {
            "text/plain": [
              "<IPython.core.display.HTML object>"
            ],
            "text/html": [
              "<table style='border: 2px solid black; font-size: 30px;'><tr><td style='border: 2px solid black; width: 60px; height: 60px; text-align: center;'>X</td><td style='border: 2px solid black; width: 60px; height: 60px; text-align: center;'>O</td><td style='border: 2px solid black; width: 60px; height: 60px; text-align: center;'> </td></tr><tr><td style='border: 2px solid black; width: 60px; height: 60px; text-align: center;'> </td><td style='border: 2px solid black; width: 60px; height: 60px; text-align: center;'> </td><td style='border: 2px solid black; width: 60px; height: 60px; text-align: center;'> </td></tr><tr><td style='border: 2px solid black; width: 60px; height: 60px; text-align: center;'> </td><td style='border: 2px solid black; width: 60px; height: 60px; text-align: center;'> </td><td style='border: 2px solid black; width: 60px; height: 60px; text-align: center;'> </td></tr></table>"
            ]
          },
          "metadata": {}
        },
        {
          "name": "stdout",
          "output_type": "stream",
          "text": [
            "Player X, choose position (0–8): 2\n"
          ]
        },
        {
          "output_type": "display_data",
          "data": {
            "text/plain": [
              "<IPython.core.display.HTML object>"
            ],
            "text/html": [
              "<table style='border: 2px solid black; font-size: 30px;'><tr><td style='border: 2px solid black; width: 60px; height: 60px; text-align: center;'>X</td><td style='border: 2px solid black; width: 60px; height: 60px; text-align: center;'>O</td><td style='border: 2px solid black; width: 60px; height: 60px; text-align: center;'>X</td></tr><tr><td style='border: 2px solid black; width: 60px; height: 60px; text-align: center;'> </td><td style='border: 2px solid black; width: 60px; height: 60px; text-align: center;'> </td><td style='border: 2px solid black; width: 60px; height: 60px; text-align: center;'> </td></tr><tr><td style='border: 2px solid black; width: 60px; height: 60px; text-align: center;'> </td><td style='border: 2px solid black; width: 60px; height: 60px; text-align: center;'> </td><td style='border: 2px solid black; width: 60px; height: 60px; text-align: center;'> </td></tr></table>"
            ]
          },
          "metadata": {}
        },
        {
          "name": "stdout",
          "output_type": "stream",
          "text": [
            "Player O, choose position (0–8): 3\n"
          ]
        },
        {
          "output_type": "display_data",
          "data": {
            "text/plain": [
              "<IPython.core.display.HTML object>"
            ],
            "text/html": [
              "<table style='border: 2px solid black; font-size: 30px;'><tr><td style='border: 2px solid black; width: 60px; height: 60px; text-align: center;'>X</td><td style='border: 2px solid black; width: 60px; height: 60px; text-align: center;'>O</td><td style='border: 2px solid black; width: 60px; height: 60px; text-align: center;'>X</td></tr><tr><td style='border: 2px solid black; width: 60px; height: 60px; text-align: center;'>O</td><td style='border: 2px solid black; width: 60px; height: 60px; text-align: center;'> </td><td style='border: 2px solid black; width: 60px; height: 60px; text-align: center;'> </td></tr><tr><td style='border: 2px solid black; width: 60px; height: 60px; text-align: center;'> </td><td style='border: 2px solid black; width: 60px; height: 60px; text-align: center;'> </td><td style='border: 2px solid black; width: 60px; height: 60px; text-align: center;'> </td></tr></table>"
            ]
          },
          "metadata": {}
        },
        {
          "name": "stdout",
          "output_type": "stream",
          "text": [
            "Player X, choose position (0–8): 5\n"
          ]
        },
        {
          "output_type": "display_data",
          "data": {
            "text/plain": [
              "<IPython.core.display.HTML object>"
            ],
            "text/html": [
              "<table style='border: 2px solid black; font-size: 30px;'><tr><td style='border: 2px solid black; width: 60px; height: 60px; text-align: center;'>X</td><td style='border: 2px solid black; width: 60px; height: 60px; text-align: center;'>O</td><td style='border: 2px solid black; width: 60px; height: 60px; text-align: center;'>X</td></tr><tr><td style='border: 2px solid black; width: 60px; height: 60px; text-align: center;'>O</td><td style='border: 2px solid black; width: 60px; height: 60px; text-align: center;'> </td><td style='border: 2px solid black; width: 60px; height: 60px; text-align: center;'>X</td></tr><tr><td style='border: 2px solid black; width: 60px; height: 60px; text-align: center;'> </td><td style='border: 2px solid black; width: 60px; height: 60px; text-align: center;'> </td><td style='border: 2px solid black; width: 60px; height: 60px; text-align: center;'> </td></tr></table>"
            ]
          },
          "metadata": {}
        },
        {
          "name": "stdout",
          "output_type": "stream",
          "text": [
            "Player O, choose position (0–8): 8\n"
          ]
        },
        {
          "output_type": "display_data",
          "data": {
            "text/plain": [
              "<IPython.core.display.HTML object>"
            ],
            "text/html": [
              "<table style='border: 2px solid black; font-size: 30px;'><tr><td style='border: 2px solid black; width: 60px; height: 60px; text-align: center;'>X</td><td style='border: 2px solid black; width: 60px; height: 60px; text-align: center;'>O</td><td style='border: 2px solid black; width: 60px; height: 60px; text-align: center;'>X</td></tr><tr><td style='border: 2px solid black; width: 60px; height: 60px; text-align: center;'>O</td><td style='border: 2px solid black; width: 60px; height: 60px; text-align: center;'> </td><td style='border: 2px solid black; width: 60px; height: 60px; text-align: center;'>X</td></tr><tr><td style='border: 2px solid black; width: 60px; height: 60px; text-align: center;'> </td><td style='border: 2px solid black; width: 60px; height: 60px; text-align: center;'> </td><td style='border: 2px solid black; width: 60px; height: 60px; text-align: center;'>O</td></tr></table>"
            ]
          },
          "metadata": {}
        },
        {
          "name": "stdout",
          "output_type": "stream",
          "text": [
            "Player X, choose position (0–8): 4\n"
          ]
        },
        {
          "output_type": "display_data",
          "data": {
            "text/plain": [
              "<IPython.core.display.HTML object>"
            ],
            "text/html": [
              "<table style='border: 2px solid black; font-size: 30px;'><tr><td style='border: 2px solid black; width: 60px; height: 60px; text-align: center;'>X</td><td style='border: 2px solid black; width: 60px; height: 60px; text-align: center;'>O</td><td style='border: 2px solid black; width: 60px; height: 60px; text-align: center;'>X</td></tr><tr><td style='border: 2px solid black; width: 60px; height: 60px; text-align: center;'>O</td><td style='border: 2px solid black; width: 60px; height: 60px; text-align: center;'>X</td><td style='border: 2px solid black; width: 60px; height: 60px; text-align: center;'>X</td></tr><tr><td style='border: 2px solid black; width: 60px; height: 60px; text-align: center;'> </td><td style='border: 2px solid black; width: 60px; height: 60px; text-align: center;'> </td><td style='border: 2px solid black; width: 60px; height: 60px; text-align: center;'>O</td></tr></table>"
            ]
          },
          "metadata": {}
        },
        {
          "name": "stdout",
          "output_type": "stream",
          "text": [
            "Player O, choose position (0–8): 7\n"
          ]
        },
        {
          "output_type": "display_data",
          "data": {
            "text/plain": [
              "<IPython.core.display.HTML object>"
            ],
            "text/html": [
              "<table style='border: 2px solid black; font-size: 30px;'><tr><td style='border: 2px solid black; width: 60px; height: 60px; text-align: center;'>X</td><td style='border: 2px solid black; width: 60px; height: 60px; text-align: center;'>O</td><td style='border: 2px solid black; width: 60px; height: 60px; text-align: center;'>X</td></tr><tr><td style='border: 2px solid black; width: 60px; height: 60px; text-align: center;'>O</td><td style='border: 2px solid black; width: 60px; height: 60px; text-align: center;'>X</td><td style='border: 2px solid black; width: 60px; height: 60px; text-align: center;'>X</td></tr><tr><td style='border: 2px solid black; width: 60px; height: 60px; text-align: center;'> </td><td style='border: 2px solid black; width: 60px; height: 60px; text-align: center;'>O</td><td style='border: 2px solid black; width: 60px; height: 60px; text-align: center;'>O</td></tr></table>"
            ]
          },
          "metadata": {}
        },
        {
          "output_type": "stream",
          "name": "stdout",
          "text": [
            "Player X, choose position (0–8): 7\n",
            "That spot is taken. Try again.\n"
          ]
        },
        {
          "output_type": "display_data",
          "data": {
            "text/plain": [
              "<IPython.core.display.HTML object>"
            ],
            "text/html": [
              "<table style='border: 2px solid black; font-size: 30px;'><tr><td style='border: 2px solid black; width: 60px; height: 60px; text-align: center;'>X</td><td style='border: 2px solid black; width: 60px; height: 60px; text-align: center;'>O</td><td style='border: 2px solid black; width: 60px; height: 60px; text-align: center;'>X</td></tr><tr><td style='border: 2px solid black; width: 60px; height: 60px; text-align: center;'>O</td><td style='border: 2px solid black; width: 60px; height: 60px; text-align: center;'>X</td><td style='border: 2px solid black; width: 60px; height: 60px; text-align: center;'>X</td></tr><tr><td style='border: 2px solid black; width: 60px; height: 60px; text-align: center;'> </td><td style='border: 2px solid black; width: 60px; height: 60px; text-align: center;'>O</td><td style='border: 2px solid black; width: 60px; height: 60px; text-align: center;'>O</td></tr></table>"
            ]
          },
          "metadata": {}
        },
        {
          "name": "stdout",
          "output_type": "stream",
          "text": [
            "Player X, choose position (0–8): 6\n"
          ]
        },
        {
          "output_type": "display_data",
          "data": {
            "text/plain": [
              "<IPython.core.display.HTML object>"
            ],
            "text/html": [
              "<table style='border: 2px solid black; font-size: 30px;'><tr><td style='border: 2px solid black; width: 60px; height: 60px; text-align: center;'>X</td><td style='border: 2px solid black; width: 60px; height: 60px; text-align: center;'>O</td><td style='border: 2px solid black; width: 60px; height: 60px; text-align: center;'>X</td></tr><tr><td style='border: 2px solid black; width: 60px; height: 60px; text-align: center;'>O</td><td style='border: 2px solid black; width: 60px; height: 60px; text-align: center;'>X</td><td style='border: 2px solid black; width: 60px; height: 60px; text-align: center;'>X</td></tr><tr><td style='border: 2px solid black; width: 60px; height: 60px; text-align: center;'>X</td><td style='border: 2px solid black; width: 60px; height: 60px; text-align: center;'>O</td><td style='border: 2px solid black; width: 60px; height: 60px; text-align: center;'>O</td></tr></table>"
            ]
          },
          "metadata": {}
        },
        {
          "output_type": "stream",
          "name": "stdout",
          "text": [
            "Player X wins!\n"
          ]
        }
      ]
    }
  ]
}