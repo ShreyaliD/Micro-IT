{
  "nbformat": 4,
  "nbformat_minor": 0,
  "metadata": {
    "colab": {
      "provenance": [],
      "authorship_tag": "ABX9TyMwK9srlkizLkPYko3l8wf4",
      "include_colab_link": true
    },
    "kernelspec": {
      "name": "python3",
      "display_name": "Python 3"
    },
    "language_info": {
      "name": "python"
    }
  },
  "cells": [
    {
      "cell_type": "markdown",
      "metadata": {
        "id": "view-in-github",
        "colab_type": "text"
      },
      "source": [
        "<a href=\"https://colab.research.google.com/github/ShreyaliD/Micro-IT/blob/main/Calculator.ipynb\" target=\"_parent\"><img src=\"https://colab.research.google.com/assets/colab-badge.svg\" alt=\"Open In Colab\"/></a>"
      ]
    },
    {
      "cell_type": "code",
      "execution_count": null,
      "metadata": {
        "id": "xs8grscFrM5G"
      },
      "outputs": [],
      "source": [
        "# Basic arithmetic operations\n",
        "def add(x, y):\n",
        "    return x + y\n",
        "\n",
        "def subtract(x, y):\n",
        "    return x - y\n",
        "\n",
        "def multiply(x, y):\n",
        "    return x * y\n",
        "\n",
        "def divide(x, y):\n",
        "    if y == 0:\n",
        "        return \"Error! Division by zero.\"\n",
        "    return x / y"
      ]
    },
    {
      "cell_type": "code",
      "source": [
        "# Show available operations\n",
        "def show_menu():\n",
        "    print(\"Select operation:\")\n",
        "    print(\"1. Add\")\n",
        "    print(\"2. Subtract\")\n",
        "    print(\"3. Multiply\")\n",
        "    print(\"4. Divide\")\n",
        "\n",
        "show_menu()\n",
        "\n",
        "# Get user input\n",
        "choice = input(\"Enter choice (1/2/3/4): \")\n",
        "num1 = float(input(\"Enter first number: \"))\n",
        "num2 = float(input(\"Enter second number: \"))"
      ],
      "metadata": {
        "colab": {
          "base_uri": "https://localhost:8080/"
        },
        "id": "wb2kUjHorh3F",
        "outputId": "b28bd562-d602-428a-fdfa-b1b62b02c9a9"
      },
      "execution_count": null,
      "outputs": [
        {
          "name": "stdout",
          "output_type": "stream",
          "text": [
            "Select operation:\n",
            "1. Add\n",
            "2. Subtract\n",
            "3. Multiply\n",
            "4. Divide\n",
            "Enter choice (1/2/3/4): 1\n",
            "Enter first number: 2\n",
            "Enter second number: 3\n"
          ]
        }
      ]
    },
    {
      "cell_type": "code",
      "source": [
        "# Perform selected operation\n",
        "if choice == '1':\n",
        "    result = add(num1, num2)\n",
        "    operation = '+'\n",
        "elif choice == '2':\n",
        "    result = subtract(num1, num2)\n",
        "    operation = '-'\n",
        "elif choice == '3':\n",
        "    result = multiply(num1, num2)\n",
        "    operation = '*'\n",
        "elif choice == '4':\n",
        "    result = divide(num1, num2)\n",
        "    operation = '/'\n",
        "else:\n",
        "    result = \"Invalid input\"\n",
        "    operation = '?'\n",
        "\n",
        "# Display result\n",
        "print(f\"\\nResult: {num1} {operation} {num2} = {result}\")"
      ],
      "metadata": {
        "colab": {
          "base_uri": "https://localhost:8080/"
        },
        "id": "Nn6kvvg8r0PI",
        "outputId": "299ce796-37fc-42cf-cb1c-ce26cbf93b84"
      },
      "execution_count": null,
      "outputs": [
        {
          "output_type": "stream",
          "name": "stdout",
          "text": [
            "\n",
            "Result: 2.0 + 3.0 = 5.0\n"
          ]
        }
      ]
    }
  ]
}