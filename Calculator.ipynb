{
  "nbformat": 4,
  "nbformat_minor": 0,
  "metadata": {
    "colab": {
      "provenance": [],
      "authorship_tag": "ABX9TyOU5oYh7Ff6VEDSjkDsk9kE",
      "include_colab_link": true
    },
    "kernelspec": {
      "name": "python3",
      "display_name": "Python 3"
    },
    "language_info": {
      "name": "python"
    }
  },
  "cells": [
    {
      "cell_type": "markdown",
      "metadata": {
        "id": "view-in-github",
        "colab_type": "text"
      },
      "source": [
        "<a href=\"https://colab.research.google.com/github/ShreyaliD/Micro-IT/blob/main/Calculator.ipynb\" target=\"_parent\"><img src=\"https://colab.research.google.com/assets/colab-badge.svg\" alt=\"Open In Colab\"/></a>"
      ]
    },
    {
      "cell_type": "code",
      "source": [
        "def calculate(num1, num2, choice):\n",
        "    if choice == '1':\n",
        "        return num1 + num2\n",
        "    elif choice == '2':\n",
        "        return num1 - num2\n",
        "    elif choice == '3':\n",
        "        return num1 * num2\n",
        "    elif choice == '4':\n",
        "        if num2 != 0:\n",
        "            return num1 / num2\n",
        "        else:\n",
        "            return \"Error: Division by zero\"\n",
        "    else:\n",
        "        return \"Invalid choice\""
      ],
      "metadata": {
        "id": "U5N7MPu3to2C"
      },
      "execution_count": 9,
      "outputs": []
    },
    {
      "cell_type": "code",
      "source": [
        "history = []\n",
        "\n",
        "while True:\n",
        "    print(\"\\nSimple Calculator\")\n",
        "    print(\"------------------\")\n",
        "    print(\"1. Add\")\n",
        "    print(\"2. Subtract\")\n",
        "    print(\"3. Multiply\")\n",
        "    print(\"4. Divide\")\n",
        "    print(\"5. View History\")\n",
        "    print(\"6. Exit\")\n",
        "\n",
        "    choice = input(\"Enter choice (1-6): \")\n",
        "\n",
        "    if choice == '6':\n",
        "        print(\"Exiting calculator. Goodbye!\")\n",
        "        break\n",
        "    elif choice == '5':\n",
        "        print(\"\\n--- Calculation History ---\")\n",
        "        if not history:\n",
        "            print(\"No calculations yet.\")\n",
        "        else:\n",
        "            for entry in history:\n",
        "                print(entry)\n",
        "        continue\n",
        "    elif choice not in ['1', '2', '3', '4']:\n",
        "        print(\"Invalid choice. Please select from 1 to 6.\")\n",
        "        continue\n",
        "\n",
        "    # Input validation loop\n",
        "    while True:\n",
        "        try:\n",
        "            num1 = float(input(\"Enter first number: \"))\n",
        "            break\n",
        "        except ValueError:\n",
        "            print(\"Invalid input. Please enter a numeric value.\")\n",
        "\n",
        "    while True:\n",
        "        try:\n",
        "            num2 = float(input(\"Enter second number: \"))\n",
        "            break\n",
        "        except ValueError:\n",
        "            print(\"Invalid input. Please enter a numeric value.\")\n",
        "\n",
        "    result = calculate(num1, num2, choice)\n",
        "    print(f\"Result: {result}\")\n",
        "\n",
        "    # Save to history\n",
        "    op_symbol = {'1': '+', '2': '-', '3': '*', '4': '/'}\n",
        "    if isinstance(result, (int, float)):\n",
        "        history.append(f\"{num1} {op_symbol[choice]} {num2} = {result}\")\n",
        "    else:\n",
        "        history.append(f\"{num1} {op_symbol[choice]} {num2} = Error\")"
      ],
      "metadata": {
        "colab": {
          "base_uri": "https://localhost:8080/"
        },
        "id": "8oPW6ROFtr4o",
        "outputId": "53948d4a-b333-460d-fc0a-bd53c8e16f42"
      },
      "execution_count": 10,
      "outputs": [
        {
          "output_type": "stream",
          "name": "stdout",
          "text": [
            "\n",
            "Simple Calculator\n",
            "------------------\n",
            "1. Add\n",
            "2. Subtract\n",
            "3. Multiply\n",
            "4. Divide\n",
            "5. View History\n",
            "6. Exit\n",
            "Enter choice (1-6): 1\n",
            "Enter first number: 2\n",
            "Enter second number: 3\n",
            "Result: 5.0\n",
            "\n",
            "Simple Calculator\n",
            "------------------\n",
            "1. Add\n",
            "2. Subtract\n",
            "3. Multiply\n",
            "4. Divide\n",
            "5. View History\n",
            "6. Exit\n",
            "Enter choice (1-6): 2\n",
            "Enter first number: 2\n",
            "Enter second number: 6\n",
            "Result: -4.0\n",
            "\n",
            "Simple Calculator\n",
            "------------------\n",
            "1. Add\n",
            "2. Subtract\n",
            "3. Multiply\n",
            "4. Divide\n",
            "5. View History\n",
            "6. Exit\n",
            "Enter choice (1-6): 6\n",
            "Exiting calculator. Goodbye!\n"
          ]
        }
      ]
    }
  ]
}